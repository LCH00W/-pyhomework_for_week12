{
 "cells": [
  {
   "cell_type": "markdown",
   "id": "8eea0a33",
   "metadata": {},
   "source": [
    "Make a Panel app to visualize the COVID19 data\n",
    "\n",
    "Basic:\n",
    "Allow users to choose countries. Months and data type to plot. If multiple countries are selected, color in different colors.\n",
    "Bonus1:\n",
    "Deploy on mybinder.org. \n",
    "share the URL link\n",
    "Bonus2:\n",
    "Add a Continent widget and update Countries options based on selected Continents\n",
    "Add a table to display data for selected countries and months"
   ]
  },
  {
   "cell_type": "code",
   "execution_count": 2,
   "id": "de6e2ea8",
   "metadata": {},
   "outputs": [
    {
     "name": "stderr",
     "output_type": "stream",
     "text": [
      "WARNING:param.ParamFunction03594: The function supplied for Panel to display was declared with `watch=True`, which will cause the function to be called twice for any change in a dependent Parameter. `watch` should be False when Panel is responsible for displaying the result of the function call, while `watch=True` should be reserved for functions that work via side-effects, e.g. by modifying internal  state of a class or global state in an application's namespace.\n",
      "WARNING:param.ParamFunction03600: The function supplied for Panel to display was declared with `watch=True`, which will cause the function to be called twice for any change in a dependent Parameter. `watch` should be False when Panel is responsible for displaying the result of the function call, while `watch=True` should be reserved for functions that work via side-effects, e.g. by modifying internal  state of a class or global state in an application's namespace.\n",
      "WARNING:param.ParamFunction03606: The function supplied for Panel to display was declared with `watch=True`, which will cause the function to be called twice for any change in a dependent Parameter. `watch` should be False when Panel is responsible for displaying the result of the function call, while `watch=True` should be reserved for functions that work via side-effects, e.g. by modifying internal  state of a class or global state in an application's namespace.\n"
     ]
    },
    {
     "data": {},
     "metadata": {},
     "output_type": "display_data"
    },
    {
     "data": {
      "application/vnd.holoviews_exec.v0+json": "",
      "text/html": [
       "<div id='2770'>\n",
       "\n",
       "\n",
       "\n",
       "\n",
       "\n",
       "  <div class=\"bk-root\" id=\"47b3042c-837b-48de-bc4e-fe1643ba6e4d\" data-root-id=\"2770\"></div>\n",
       "</div>\n",
       "<script type=\"application/javascript\">(function(root) {\n",
       "  function embed_document(root) {\n",
       "    var docs_json = {\"76e4f72b-7876-4292-8c4a-30cc3720ddeb\":{\"defs\":[{\"extends\":null,\"module\":null,\"name\":\"ReactiveHTML1\",\"overrides\":[],\"properties\":[]},{\"extends\":null,\"module\":null,\"name\":\"FlexBox1\",\"overrides\":[],\"properties\":[{\"default\":\"flex-start\",\"kind\":null,\"name\":\"align_content\"},{\"default\":\"flex-start\",\"kind\":null,\"name\":\"align_items\"},{\"default\":\"row\",\"kind\":null,\"name\":\"flex_direction\"},{\"default\":\"wrap\",\"kind\":null,\"name\":\"flex_wrap\"},{\"default\":\"flex-start\",\"kind\":null,\"name\":\"justify_content\"}]},{\"extends\":null,\"module\":null,\"name\":\"TemplateActions1\",\"overrides\":[],\"properties\":[{\"default\":0,\"kind\":null,\"name\":\"open_modal\"},{\"default\":0,\"kind\":null,\"name\":\"close_modal\"}]},{\"extends\":null,\"module\":null,\"name\":\"MaterialTemplateActions1\",\"overrides\":[],\"properties\":[{\"default\":0,\"kind\":null,\"name\":\"open_modal\"},{\"default\":0,\"kind\":null,\"name\":\"close_modal\"}]}],\"roots\":{\"references\":[{\"attributes\":{\"client_comm_id\":\"ea4e19144b304da89d194ecda459e2b0\",\"comm_id\":\"972c8776bee04bc3bd66837d709ca91b\",\"plot_id\":\"2770\"},\"id\":\"2782\",\"type\":\"panel.models.comm_manager.CommManager\"},{\"attributes\":{\"children\":[{\"id\":\"2772\"},{\"id\":\"2778\"}],\"margin\":[0,0,0,0],\"name\":\"Row03605\"},\"id\":\"2771\",\"type\":\"Row\"},{\"attributes\":{\"children\":[{\"id\":\"2771\"},{\"id\":\"2780\"}],\"margin\":[0,0,0,0],\"name\":\"Column03611\"},\"id\":\"2770\",\"type\":\"Column\"},{\"attributes\":{\"margin\":[5,5,5,5],\"name\":\"Str03602\"},\"id\":\"2779\",\"type\":\"panel.models.markup.HTML\"},{\"attributes\":{\"children\":[{\"id\":\"2775\"}],\"margin\":[0,0,0,0],\"name\":\"Row03598\"},\"id\":\"2774\",\"type\":\"Row\"},{\"attributes\":{\"children\":[{\"id\":\"2781\"}],\"margin\":[0,0,0,0],\"name\":\"Row03610\"},\"id\":\"2780\",\"type\":\"Row\"},{\"attributes\":{\"children\":[{\"id\":\"2773\"},{\"id\":\"2774\"},{\"id\":\"2776\"},{\"id\":\"2777\"}],\"css_classes\":[\"panel-widget-box\"],\"margin\":[5,5,5,5],\"name\":\"WidgetBox03599\"},\"id\":\"2772\",\"type\":\"Column\"},{\"attributes\":{\"margin\":[5,5,5,5],\"name\":\"Str03608\"},\"id\":\"2781\",\"type\":\"panel.models.markup.HTML\"},{\"attributes\":{\"end\":12,\"margin\":[5,10,5,10],\"start\":1,\"title\":\"Months Range\",\"value\":[1,12]},\"id\":\"2776\",\"type\":\"RangeSlider\"},{\"attributes\":{\"margin\":[5,10,5,10],\"options\":[\"Africa\",\"Asia\",\"Europe\",\"Oceania\",\"America\",\"Other\"],\"title\":\"continents\",\"value\":\"Africa\"},\"id\":\"2773\",\"type\":\"Select\"},{\"attributes\":{\"margin\":[5,10,5,10],\"options\":[\"Uganda\",\"Madagascar\",\"Burundi\",\"United_Republic_of_Tanzania\",\"Ethiopia\",\"Chad\",\"Mali\",\"Guinea\",\"Gabon\",\"Mauritania\",\"Morocco\",\"Sudan\",\"Rwanda\",\"Algeria\",\"Mauritius\",\"South_Sudan\",\"Zambia\",\"Senegal\",\"Mozambique\",\"Zimbabwe\",\"Togo\",\"Sao_Tome_and_Principe\",\"Malawi\",\"Djibouti\",\"Burkina_Faso\",\"Somalia\",\"Lesotho\",\"Tunisia\",\"Niger\",\"Gambia\",\"Seychelles\",\"Liberia\",\"Central_African_Republic\",\"Comoros\",\"Eritrea\",\"Democratic_Republic_of_the_Congo\",\"Botswana\",\"Egypt\",\"Guinea_Bissau\",\"Angola\",\"Nigeria\",\"Ghana\",\"South_Africa\",\"Cote_dIvoire\",\"Equatorial_Guinea\",\"Western_Sahara\",\"Congo\",\"Namibia\",\"Libya\",\"Cape_Verde\",\"Benin\",\"Cameroon\",\"Sierra_Leone\",\"Kenya\",\"Eswatini\"],\"title\":\"countries\"},\"id\":\"2775\",\"type\":\"MultiSelect\"},{\"attributes\":{\"active\":0,\"labels\":[\"cases\",\"deaths\"],\"margin\":[5,10,5,10]},\"id\":\"2777\",\"type\":\"RadioButtonGroup\"},{\"attributes\":{\"children\":[{\"id\":\"2779\"}],\"margin\":[0,0,0,0],\"name\":\"Row03604\"},\"id\":\"2778\",\"type\":\"Row\"}],\"root_ids\":[\"2770\",\"2782\"]},\"title\":\"Bokeh Application\",\"version\":\"2.4.2\"}};\n",
       "    var render_items = [{\"docid\":\"76e4f72b-7876-4292-8c4a-30cc3720ddeb\",\"root_ids\":[\"2770\"],\"roots\":{\"2770\":\"47b3042c-837b-48de-bc4e-fe1643ba6e4d\"}}];\n",
       "    root.Bokeh.embed.embed_items_notebook(docs_json, render_items);\n",
       "  }\n",
       "  if (root.Bokeh !== undefined && root.Bokeh.Panel !== undefined) {\n",
       "    embed_document(root);\n",
       "  } else {\n",
       "    var attempts = 0;\n",
       "    var timer = setInterval(function(root) {\n",
       "      if (root.Bokeh !== undefined && root.Bokeh.Panel !== undefined) {\n",
       "        clearInterval(timer);\n",
       "        embed_document(root);\n",
       "      } else if (document.readyState == \"complete\") {\n",
       "        attempts++;\n",
       "        if (attempts > 200) {\n",
       "          clearInterval(timer);\n",
       "          console.log(\"Bokeh: ERROR: Unable to run BokehJS code because BokehJS library is missing\");\n",
       "        }\n",
       "      }\n",
       "    }, 25, root)\n",
       "  }\n",
       "})(window);</script>"
      ],
      "text/plain": [
       "Column\n",
       "    [0] Row\n",
       "        [0] WidgetBox\n",
       "            [0] Select(name='continents', options=['Africa', 'Asia', ...], value='Africa')\n",
       "            [1] ParamFunction(function)\n",
       "            [2] RangeSlider(end=12, name='Months Range', start=1, step=1, value=(1, 12), value_end=12, value_start=1)\n",
       "            [3] RadioButtonGroup(name='Button Group', options=['cases', 'deaths'], value='cases')\n",
       "        [1] ParamFunction(function)\n",
       "    [1] ParamFunction(function)"
      ]
     },
     "execution_count": 2,
     "metadata": {
      "application/vnd.holoviews_exec.v0+json": {
       "id": "2770"
      }
     },
     "output_type": "execute_result"
    }
   ],
   "source": [
    "import numpy as np\n",
    "import pandas as pd\n",
    "import seaborn as sns\n",
    "import panel as pn\n",
    "import hvplot.pandas\n",
    "from datetime import datetime\n",
    "\n",
    "gene_pq = pd.read_csv(\"world_wide_COVID_data_daily_data.csv\").sort_values(by=\"geoId\",ascending=False)  # .set_index(\"geoId\")\n",
    "countries_list = {}\n",
    "for i in ['Africa', 'Asia', 'Europe', 'Oceania', 'America', 'Other']:\n",
    "    countries_list[i] = list(set(gene_pq[gene_pq[\"continentExp\"] == i][\"countriesAndTerritories\"].values))\n",
    "continents_list = ['Africa', 'Asia', 'Europe', 'Oceania', 'America', 'Other']\n",
    "gene_pq[\"dateRep\"] = gene_pq[\"dateRep\"].map(lambda x: \"\".join([x.split(\"/\")[2], x.split(\"/\")[1], x.split(\"/\")[0]]))\n",
    "gene_pq = gene_pq[gene_pq[\"year\"] == 2020]\n",
    "gene_pq = gene_pq.set_index(\"countriesAndTerritories\")\n",
    "pn.extension()\n",
    "\n",
    "x = pn.widgets.RangeSlider(name='Months Range', start=1, end=12)\n",
    "y = pn.widgets.RadioButtonGroup(name='Button Group', options=['cases', 'deaths'])\n",
    "continents = pn.widgets.Select(name=\"continents\", options=continents_list)\n",
    "countries = pn.widgets.MultiSelect(name=\"countries\", options=countries_list[continents.value])\n",
    "\n",
    "\n",
    "@pn.depends(continents, watch=True)\n",
    "def update(continents):\n",
    "    countries.options = countries_list[continents]\n",
    "    return countries\n",
    "\n",
    "\n",
    "@pn.depends(countries, x, y, watch=True)\n",
    "def pic(countries, x, y):\n",
    "    if countries == []:\n",
    "        return None\n",
    "    else:\n",
    "        data_ori = gene_pq[gene_pq[\"month\"] <= x[1]]\n",
    "        date = data_ori[data_ori[\"month\"] >= int(x[0])].loc[countries].sort_values(by=\"dateRep\",ascending=True)\n",
    "        date[\"dateRep\"] = date[\"dateRep\"].map(lambda x: datetime.strptime(x, \"%Y%m%d\").date())\n",
    "        plot = date.hvplot(x=\"dateRep\", y=y, by=\"countriesAndTerritories\")\n",
    "        return plot\n",
    "\n",
    "\n",
    "@pn.depends(countries, x, watch=True)\n",
    "def cssv(countries, x):\n",
    "    if countries == []:\n",
    "        return None\n",
    "    else:\n",
    "        data_ori = gene_pq[gene_pq[\"month\"] <= x[1]]\n",
    "        date = data_ori[data_ori[\"month\"] >= int(x[0])].loc[countries].sort_values(by=\"dateRep\",ascending=True)\n",
    "        date[\"dateRep\"] = date[\"dateRep\"].map(lambda x: datetime.strptime(x, \"%Y%m%d\").date())\n",
    "        return date.hvplot.table(title = 'DATAtable' )\n",
    "\n",
    "pn.Column(pn.Row(pn.WidgetBox(continents, update, x, y),pic),cssv).servable()#传参后的函数可以不带后面括号直接用，默认输入depends()的数据"
   ]
  },
  {
   "cell_type": "code",
   "execution_count": null,
   "id": "406af5a4",
   "metadata": {},
   "outputs": [],
   "source": []
  }
 ],
 "metadata": {
  "kernelspec": {
   "display_name": "Python 3 (ipykernel)",
   "language": "python",
   "name": "python3"
  },
  "language_info": {
   "codemirror_mode": {
    "name": "ipython",
    "version": 3
   },
   "file_extension": ".py",
   "mimetype": "text/x-python",
   "name": "python",
   "nbconvert_exporter": "python",
   "pygments_lexer": "ipython3",
   "version": "3.10.0"
  }
 },
 "nbformat": 4,
 "nbformat_minor": 5
}
